{
  "nbformat": 4,
  "nbformat_minor": 0,
  "metadata": {
    "colab": {
      "provenance": []
    },
    "kernelspec": {
      "name": "python3",
      "display_name": "Python 3"
    },
    "language_info": {
      "name": "python"
    }
  },
  "cells": [
    {
      "cell_type": "markdown",
      "source": [
        "#DATA STRUCTURE\n",
        "1. What are data structures, and why are they important?\n",
        " - Data structures are ways to organize and store data in a computer so that it can be used efficiently.\n",
        "They are important because they help in:\n",
        "\n",
        " - Storing large data properly\n",
        "\n",
        " - Performing operations (searching, sorting, updating) faster\n",
        "\n",
        " - Reducing memory usage and improving program performance\n",
        "\n",
        "2. Explain the difference between mutable and immutable data types with examples.\n",
        " - Mutable: Can be changed after creation. Example:\n",
        "  List → a = [1,2,3]; a[0] = 10 → [10,2,3].\n",
        "\n",
        " - Immutable: Cannot be changed after creation. Example: String → \"hello\" cannot be modified directly.\n",
        "\n",
        "3. What are the main differences between lists and tuples in Python?\n",
        " - List: Mutable, slower, written with []. Example: [1,2,3].\n",
        "\n",
        " - Tuple: Immutable, faster, written with (). Example: (1,2,3).\n",
        "\n",
        "4. Describe how dictionaries store data.\n",
        " - Dictionaries store data in key-value pairs. Each value is accessed using its key, not an index.\n",
        "Example: student = {\"name\":\"Ali\", \"age\":20} → key = \"name\", value = \"Ali\".\n",
        "\n",
        "5. Why might you use a set instead of a list in Python?\n",
        " - A set automatically removes duplicate values.\n",
        "Sets provide faster searching compared to lists.\n",
        "\n",
        "6. What is a string in Python, and how is it different from a list?\n",
        " - A string is a sequence of characters (immutable). Example: \"Python\".\n",
        "\n",
        " - A list is a collection of different data types (mutable). Example: [1, \"Python\", 3.5].\n",
        "\n",
        "7. How do tuples ensure data integrity in Python?\n",
        " - Since tuples are immutable, their values cannot be changed once created. This ensures the data stored inside remains safe and unchanged.\n",
        "\n",
        "8. What is a hash table, and how does it relate to dictionaries in Python?\n",
        " - A hash table stores data using a hashing function that maps keys to memory addresses.\n",
        "\n",
        " - Python dictionaries are implemented using hash tables.\n",
        "\n",
        "9. Can lists contain different data types in Python?\n",
        " - Yes, lists can store multiple data types together. Example:\n",
        "data = [1, \"hello\", 3.5, True].\n",
        "\n",
        "10. Explain why strings are immutable in Python.\n",
        " - Strings are immutable to:\n",
        "     -       Save memory (since many programs reuse the same strings)\n",
        "     -    Improve performance (string operations become faster)\n",
        "     -  Provide security (string values remain unchanged accidentally).\n",
        "\n",
        "11. What advantages do dictionaries offer over lists for certain tasks?\n",
        " - Faster lookups using keys instead of searching through indexes.\n",
        " - Clear key-value relationship for better readability.\n",
        " - No need to remember index positions.\n",
        "\n",
        "12. Describe a scenario where using a tuple would be preferable over a list.\n",
        " - When storing fixed data that should not change, e.g., storing latitude and longitude of a location: (28.61, 77.23).\n",
        "\n",
        "13. How do sets handle duplicate values in Python?\n",
        " - Sets automatically remove duplicates. Example:\n",
        "{1,2,2,3} → {1,2,3}.\n",
        "\n",
        "14. How does the “in” keyword work differently for lists and dictionaries?\n",
        " - For lists, \"in\" checks if a value exists in the list.\n",
        "\n",
        " - For dictionaries, \"in\" checks if a key exists, not the value.\n",
        "\n",
        "15. Can you modify the elements of a tuple? Explain why or why not?\n",
        " - No, tuples are immutable, so their elements cannot be changed after creation. This ensures data remains constant.\n",
        "\n",
        "16. What is a nested dictionary, and give an example of its use case.\n",
        " - A nested dictionary means a dictionary inside another dictionary.\n",
        "Example:student = {\n",
        "  \"name\": \"Ali\",\n",
        "  \"marks\": {\"math\": 90, \"science\": 85}\n",
        "}\n",
        " - Use case: Storing structured data like student records.\n",
        "\n",
        "17. Describe the time complexity of accessing elements in a dictionary.\n",
        " - Accessing elements in a dictionary takes O(1) time on average because it uses hash tables.\n",
        "\n",
        "18. In what situations are lists preferred over dictionaries?\n",
        " - Lists are preferred when:\n",
        "   -  Order of elements matters (lists maintain order).\n",
        "   -  You need to store a sequence of items without key-value pairs.\n",
        "   -  Data will be accessed mostly by index numbers.\n",
        "Example: A list of student names → [\"Ali\", \"Sara\", \"Rahul\"].\n",
        "\n",
        "19.Why are dictionaries considered unordered, and how does that affect data retrieval?\n",
        " - Dictionaries are considered unordered because elements are stored using hashing, not in a fixed sequence.\n",
        "This means you cannot rely on the order of items for retrieval.\n",
        "However, retrieval is still fast using keys, not by position.\n",
        "\n",
        "20. Explain the difference between a list and a dictionary in terms of data retrieval.\n",
        " - List: Data is retrieved using index numbers (position-based). Example: list[0].\n",
        " - Dictionary: Data is retrieved using keys (key-based). Example: dict[\"name\"]."
      ],
      "metadata": {
        "id": "XwpDVFsraqAd"
      }
    },
    {
      "cell_type": "markdown",
      "source": [
        "#PRACTICAL QUESTION"
      ],
      "metadata": {
        "id": "egoky9K5jtCs"
      }
    },
    {
      "cell_type": "code",
      "source": [
        "# 1. Write a code to create a string with your name and print it\n",
        "name=\"mohd aijaj\"\n",
        "print(name)"
      ],
      "metadata": {
        "id": "x9t_tVVNiiZU",
        "colab": {
          "base_uri": "https://localhost:8080/"
        },
        "outputId": "66408d48-ea00-4341-f8ee-cd29686f9641"
      },
      "execution_count": 2,
      "outputs": [
        {
          "output_type": "stream",
          "name": "stdout",
          "text": [
            "mohd aijaj\n"
          ]
        }
      ]
    },
    {
      "cell_type": "code",
      "source": [
        "# 2. Write a code to find the length of the string \"Hello World\".\n",
        "str1=\"Hello World\"\n",
        "print(len(str1))"
      ],
      "metadata": {
        "colab": {
          "base_uri": "https://localhost:8080/"
        },
        "id": "E1ylSFWulbco",
        "outputId": "54a2f5e2-d4c3-4821-c5d4-d369bb8a884a"
      },
      "execution_count": 3,
      "outputs": [
        {
          "output_type": "stream",
          "name": "stdout",
          "text": [
            "11\n"
          ]
        }
      ]
    },
    {
      "cell_type": "code",
      "source": [
        "# 3. Write a code to slice the first 3 characters from the string \"Python Programming\".\n",
        "str2=\"Python Programming\"\n",
        "print(str2[0:3])"
      ],
      "metadata": {
        "colab": {
          "base_uri": "https://localhost:8080/"
        },
        "id": "3y_40-xil6HV",
        "outputId": "3fc1ead2-c5ec-4378-c83e-b7956c9d86ed"
      },
      "execution_count": 4,
      "outputs": [
        {
          "output_type": "stream",
          "name": "stdout",
          "text": [
            "Pyt\n"
          ]
        }
      ]
    },
    {
      "cell_type": "code",
      "source": [
        "# 4.Write a code to convert the string \"hello\" to uppercase.\n",
        "str1=\"hello\"\n",
        "print(str1.upper())"
      ],
      "metadata": {
        "colab": {
          "base_uri": "https://localhost:8080/"
        },
        "id": "jSRpOQzkmMwv",
        "outputId": "4941e25d-e520-43e5-daec-51ee0be0d5ff"
      },
      "execution_count": 5,
      "outputs": [
        {
          "output_type": "stream",
          "name": "stdout",
          "text": [
            "HELLO\n"
          ]
        }
      ]
    },
    {
      "cell_type": "code",
      "source": [
        "# 5.Write a code to replace the word \"apple\" with \"orange\" in the string \"I like apple\".\n",
        "s=\"I like apple \"\n",
        "print(s.replace(\"apple\", \"orange\"))"
      ],
      "metadata": {
        "colab": {
          "base_uri": "https://localhost:8080/"
        },
        "id": "2Hfob1vamuyI",
        "outputId": "a07c4efc-e245-47aa-d45f-b069f70e596e"
      },
      "execution_count": 6,
      "outputs": [
        {
          "output_type": "stream",
          "name": "stdout",
          "text": [
            "I like orange \n"
          ]
        }
      ]
    },
    {
      "cell_type": "code",
      "source": [
        "# 6.Write a code to create a list with numbers 1 to 5 and print it.\n",
        "number = [1, 2, 3, 4, 5]\n",
        "print(number)"
      ],
      "metadata": {
        "colab": {
          "base_uri": "https://localhost:8080/"
        },
        "id": "-3_oA35jnVSI",
        "outputId": "371d0ddb-f286-4110-c1a9-5af43c31afc3"
      },
      "execution_count": 7,
      "outputs": [
        {
          "output_type": "stream",
          "name": "stdout",
          "text": [
            "[1, 2, 3, 4, 5]\n"
          ]
        }
      ]
    },
    {
      "cell_type": "code",
      "source": [
        "# 7.Write a code to append the number 10 to the list [1, 2, 3, 4]\n",
        "list1 = [1, 2, 3, 4]\n",
        "list1.append(10)\n",
        "print(list1)"
      ],
      "metadata": {
        "colab": {
          "base_uri": "https://localhost:8080/"
        },
        "id": "eOo1ht5wnw0a",
        "outputId": "34dfb858-449c-451a-c4b6-f12258f46ddb"
      },
      "execution_count": 8,
      "outputs": [
        {
          "output_type": "stream",
          "name": "stdout",
          "text": [
            "[1, 2, 3, 4, 10]\n"
          ]
        }
      ]
    },
    {
      "cell_type": "code",
      "source": [
        "# 8.Write a code to remove the number 3 from the list [1, 2, 3, 4, 5].\n",
        "list2 = [1, 2, 3, 4, 5]\n",
        "list2.remove(3)\n",
        "print(list2)"
      ],
      "metadata": {
        "colab": {
          "base_uri": "https://localhost:8080/"
        },
        "id": "61RT7rq1oEG5",
        "outputId": "76fc6347-8baf-497c-f945-f4e1487bf12f"
      },
      "execution_count": 9,
      "outputs": [
        {
          "output_type": "stream",
          "name": "stdout",
          "text": [
            "[1, 2, 4, 5]\n"
          ]
        }
      ]
    },
    {
      "cell_type": "code",
      "source": [
        "# 9.Write a code to access the second element in the list ['a', 'b', 'c', 'd'].\n",
        "list3 = ['a', 'b', 'c', 'd']\n",
        "print(list3[1])"
      ],
      "metadata": {
        "colab": {
          "base_uri": "https://localhost:8080/"
        },
        "id": "N_56ViC0oWPB",
        "outputId": "9e7d84fd-6d2d-43f7-f305-9767bf17f9e4"
      },
      "execution_count": 10,
      "outputs": [
        {
          "output_type": "stream",
          "name": "stdout",
          "text": [
            "b\n"
          ]
        }
      ]
    },
    {
      "cell_type": "code",
      "source": [
        "# 10.Write a code to reverse the list [10, 20, 30, 40, 50].\n",
        "list1 = [10, 20, 30, 40, 50]\n",
        "list1.reverse()\n",
        "print(list1)"
      ],
      "metadata": {
        "colab": {
          "base_uri": "https://localhost:8080/"
        },
        "id": "enkimSPJoo_u",
        "outputId": "a4b510d6-840f-4a9b-d9a7-ff54c491ab95"
      },
      "execution_count": 12,
      "outputs": [
        {
          "output_type": "stream",
          "name": "stdout",
          "text": [
            "[50, 40, 30, 20, 10]\n"
          ]
        }
      ]
    },
    {
      "cell_type": "code",
      "source": [
        "# 11. Write a code to create a tuple with the elements 100, 200, 300 and print it.\n",
        "tuple1 = (100, 200, 300)\n",
        "print(tuple1)"
      ],
      "metadata": {
        "colab": {
          "base_uri": "https://localhost:8080/"
        },
        "id": "8OWmp6QLo_6k",
        "outputId": "e7303465-171e-449f-8eb8-a6331431c879"
      },
      "execution_count": 13,
      "outputs": [
        {
          "output_type": "stream",
          "name": "stdout",
          "text": [
            "(100, 200, 300)\n"
          ]
        }
      ]
    },
    {
      "cell_type": "code",
      "source": [
        "# 12.Write a code to access the second-to-last element of the tuple ('red', 'green', 'blue', 'yellow').\n",
        "tuple1 = ('red', 'green', 'blue', 'yellow')\n",
        "print(tuple1[-2])"
      ],
      "metadata": {
        "colab": {
          "base_uri": "https://localhost:8080/"
        },
        "id": "GLYQ-4YepMuw",
        "outputId": "a7515446-960f-41c7-9bf3-cbaf0b657805"
      },
      "execution_count": 14,
      "outputs": [
        {
          "output_type": "stream",
          "name": "stdout",
          "text": [
            "blue\n"
          ]
        }
      ]
    },
    {
      "cell_type": "code",
      "source": [
        "# 13. Write a code to find the minimum number in the tuple (10, 20, 5, 15).\n",
        "t=(10,20,5,15)\n",
        "print(min(t))"
      ],
      "metadata": {
        "colab": {
          "base_uri": "https://localhost:8080/"
        },
        "id": "eBT_yzk_plSq",
        "outputId": "1895b250-3cfb-4a82-e20e-5305725b2c3c"
      },
      "execution_count": 15,
      "outputs": [
        {
          "output_type": "stream",
          "name": "stdout",
          "text": [
            "5\n"
          ]
        }
      ]
    },
    {
      "cell_type": "code",
      "source": [
        "# 14.Write a code to find the index of the element \"cat\" in the tuple ('dog', 'cat', 'rabbit').\n",
        "tuple1 = ('dog', 'cat', 'rabbit')\n",
        "print(tuple1.index('cat'))"
      ],
      "metadata": {
        "colab": {
          "base_uri": "https://localhost:8080/"
        },
        "id": "_Xl_p9eSp56w",
        "outputId": "12ed8abe-3962-4e64-f094-6d957c530706"
      },
      "execution_count": 16,
      "outputs": [
        {
          "output_type": "stream",
          "name": "stdout",
          "text": [
            "1\n"
          ]
        }
      ]
    },
    {
      "cell_type": "code",
      "source": [
        "# 15.Write a code to create a tuple containing three different fruits and check if \"kiwi\" is in it.\n",
        "fruits = (\"apple\", \"banana\", \"mango\")\n",
        "print(\"kiwi\" in fruits)"
      ],
      "metadata": {
        "colab": {
          "base_uri": "https://localhost:8080/"
        },
        "id": "or9zJMiNqPuZ",
        "outputId": "4674bc06-13be-4004-a0d4-a25a87834a29"
      },
      "execution_count": 17,
      "outputs": [
        {
          "output_type": "stream",
          "name": "stdout",
          "text": [
            "False\n"
          ]
        }
      ]
    },
    {
      "cell_type": "code",
      "source": [
        "# 16.Write a code to create a set with the elements 'a', 'b', 'c' and print it.\n",
        "set1 = {'a', 'b', 'c'}\n",
        "print(set1)"
      ],
      "metadata": {
        "colab": {
          "base_uri": "https://localhost:8080/"
        },
        "id": "LoNBIlsAqtG8",
        "outputId": "55ba64d8-33ac-42d7-e2b6-035a30333841"
      },
      "execution_count": 18,
      "outputs": [
        {
          "output_type": "stream",
          "name": "stdout",
          "text": [
            "{'a', 'c', 'b'}\n"
          ]
        }
      ]
    },
    {
      "cell_type": "code",
      "source": [
        "# 17.Write a code to clear all elements from the set {1, 2, 3, 4, 5}.\n",
        "set1 = {1, 2, 3, 4, 5}\n",
        "set1.clear()\n",
        "print(set1)"
      ],
      "metadata": {
        "colab": {
          "base_uri": "https://localhost:8080/"
        },
        "id": "m8wQc7L4rNrG",
        "outputId": "05ed8518-ebf0-48eb-d358-83008d108211"
      },
      "execution_count": 19,
      "outputs": [
        {
          "output_type": "stream",
          "name": "stdout",
          "text": [
            "set()\n"
          ]
        }
      ]
    },
    {
      "cell_type": "code",
      "source": [
        "# 18. Write a code to remove the element 4 from the set {1, 2, 3, 4}.\n",
        "set1 = {1, 2, 3, 4}\n",
        "set1.remove(4)\n",
        "print(set1)"
      ],
      "metadata": {
        "colab": {
          "base_uri": "https://localhost:8080/"
        },
        "id": "KQ7_0ZLyreGx",
        "outputId": "ed5fe6e6-01b3-4d68-ddbf-15d929a6f910"
      },
      "execution_count": 20,
      "outputs": [
        {
          "output_type": "stream",
          "name": "stdout",
          "text": [
            "{1, 2, 3}\n"
          ]
        }
      ]
    },
    {
      "cell_type": "code",
      "source": [
        "# 19.Write a code to find the union of two sets {1, 2, 3} and {3, 4, 5}.\n",
        "set1 = {1, 2, 3}\n",
        "set2 = {3, 4, 5}\n",
        "print(set1.union(set2))"
      ],
      "metadata": {
        "colab": {
          "base_uri": "https://localhost:8080/"
        },
        "id": "Z7Q8_MXJrt32",
        "outputId": "10d9b935-e0df-48a7-d5af-fc7420a30242"
      },
      "execution_count": 21,
      "outputs": [
        {
          "output_type": "stream",
          "name": "stdout",
          "text": [
            "{1, 2, 3, 4, 5}\n"
          ]
        }
      ]
    },
    {
      "cell_type": "code",
      "source": [
        "#  20. Write a code to find the intersection of two sets {1, 2, 3} and {2, 3, 4}.\n",
        "s1={1,2,3}\n",
        "s2={2,3,4}\n",
        "print(s1.intersection(s2))"
      ],
      "metadata": {
        "colab": {
          "base_uri": "https://localhost:8080/"
        },
        "id": "k5on1vwdr7cQ",
        "outputId": "79597e7b-b2d2-4329-9397-f1d1791d205c"
      },
      "execution_count": 22,
      "outputs": [
        {
          "output_type": "stream",
          "name": "stdout",
          "text": [
            "{2, 3}\n"
          ]
        }
      ]
    },
    {
      "cell_type": "code",
      "source": [
        "# 21.Write a code to create a dictionary with the keys \"name\", \"age\", and \"city\", and print it.\n",
        "dict1={\"name\":\"mohd aijaj\",\"age\":20,\"city\":\"MEWAT\"}\n",
        "print(dict1)"
      ],
      "metadata": {
        "colab": {
          "base_uri": "https://localhost:8080/"
        },
        "id": "TFrpUULPsZn0",
        "outputId": "9a8c5f82-e0cd-483c-fb16-1fc1c5595918"
      },
      "execution_count": 24,
      "outputs": [
        {
          "output_type": "stream",
          "name": "stdout",
          "text": [
            "{'name': 'mohd aijaj', 'age': 20, 'city': 'MEWAT'}\n"
          ]
        }
      ]
    },
    {
      "cell_type": "code",
      "source": [
        "# 22.Write a code to add a new key-value pair \"country\": \"USA\" to the dictionary {'name': 'John', 'age': 25}.\n",
        "d1={'name': 'John', 'age': 25}\n",
        "d1[\"country\"]=\"USA\"\n",
        "print(d1)\n"
      ],
      "metadata": {
        "colab": {
          "base_uri": "https://localhost:8080/"
        },
        "id": "Bz8Y9P1Qs4HM",
        "outputId": "ea5ccda5-7ccd-4cec-f0af-9acb49954697"
      },
      "execution_count": 25,
      "outputs": [
        {
          "output_type": "stream",
          "name": "stdout",
          "text": [
            "{'name': 'John', 'age': 25, 'country': 'USA'}\n"
          ]
        }
      ]
    },
    {
      "cell_type": "code",
      "source": [
        "# 23. Write a code to access the value associated with the key \"name\" in the dictionary {'name': 'Alice', 'age': 30}.\n",
        "dict1={'name': 'Alice', 'age': 30}\n",
        "print(dict1[\"name\"])"
      ],
      "metadata": {
        "colab": {
          "base_uri": "https://localhost:8080/"
        },
        "id": "3be-6J80tTp2",
        "outputId": "25956931-2322-4518-f61c-3711c1b1f6ea"
      },
      "execution_count": 26,
      "outputs": [
        {
          "output_type": "stream",
          "name": "stdout",
          "text": [
            "Alice\n"
          ]
        }
      ]
    },
    {
      "cell_type": "code",
      "source": [
        "# 24. Write a code to remove the key \"age\" from the dictionary {'name': 'Bob', 'age': 22, 'city': 'New York'}.\n",
        "dict1={'name': 'Bob', 'age': 22, 'city': 'New York'}\n",
        "del dict1[\"age\"]\n",
        "print(dict1)"
      ],
      "metadata": {
        "colab": {
          "base_uri": "https://localhost:8080/"
        },
        "id": "rfnE4LgltlSn",
        "outputId": "03e43ec7-ef0f-4a21-db93-e878999cc0ac"
      },
      "execution_count": 27,
      "outputs": [
        {
          "output_type": "stream",
          "name": "stdout",
          "text": [
            "{'name': 'Bob', 'city': 'New York'}\n"
          ]
        }
      ]
    },
    {
      "cell_type": "code",
      "source": [
        "# 25.Write a code to check if the key \"city\" exists in the dictionary {'name': 'Alice', 'city': 'Paris'}.\n",
        "dict1={'name': 'Alice', 'city': 'Paris'}\n",
        "print(\"city\" in dict1)"
      ],
      "metadata": {
        "colab": {
          "base_uri": "https://localhost:8080/"
        },
        "id": "ykesnW6otw9C",
        "outputId": "e2aa5174-2fa1-420d-e516-55a95b3aef3c"
      },
      "execution_count": 28,
      "outputs": [
        {
          "output_type": "stream",
          "name": "stdout",
          "text": [
            "True\n"
          ]
        }
      ]
    },
    {
      "cell_type": "code",
      "source": [
        "# 26. Write a code to create a list, a tuple, and a dictionary, and print them all.\n",
        "list1=[1,2,3,4,5]\n",
        "print(list1)\n",
        "tuple1=(1,2,3,4,5)\n",
        "print(tuple1)\n",
        "dict1={\"name\":\"mohd aijaj\",\"age\":20,\"city\":\"MEWAT\"}\n",
        "print(dict1)"
      ],
      "metadata": {
        "colab": {
          "base_uri": "https://localhost:8080/"
        },
        "id": "GLTNrIScuAFY",
        "outputId": "14874ed8-6725-4d59-ffc0-f72d2aa383ed"
      },
      "execution_count": 29,
      "outputs": [
        {
          "output_type": "stream",
          "name": "stdout",
          "text": [
            "[1, 2, 3, 4, 5]\n",
            "(1, 2, 3, 4, 5)\n",
            "{'name': 'mohd aijaj', 'age': 20, 'city': 'MEWAT'}\n"
          ]
        }
      ]
    },
    {
      "cell_type": "code",
      "source": [
        "# 27. Write a code to create a list of 5 random numbers between 1 and 100, sort it in ascending order, and print the\n",
        "#     result.(replaced)\n",
        "import random\n",
        "list1 = random.sample(range(1, 101), 5)\n",
        "list1.sort()\n",
        "print(list1)"
      ],
      "metadata": {
        "colab": {
          "base_uri": "https://localhost:8080/"
        },
        "id": "ocp3ZJtluQsY",
        "outputId": "b0c8eafd-d61e-43a3-edb0-ed65763e5699"
      },
      "execution_count": 32,
      "outputs": [
        {
          "output_type": "stream",
          "name": "stdout",
          "text": [
            "[9, 12, 21, 53, 67]\n"
          ]
        }
      ]
    },
    {
      "cell_type": "code",
      "source": [
        "# 28. Write a code to create a list with strings and print the element at the third index.\n",
        "list1 = [\"apple\", \"banana\", \"cherry\", \"date\", \"elderberry\"]\n",
        "print(list1[3])"
      ],
      "metadata": {
        "colab": {
          "base_uri": "https://localhost:8080/"
        },
        "id": "6DhbxSJvvKXq",
        "outputId": "fa014f0f-30b3-4ff5-f74b-c77b745ddac1"
      },
      "execution_count": 33,
      "outputs": [
        {
          "output_type": "stream",
          "name": "stdout",
          "text": [
            "date\n"
          ]
        }
      ]
    },
    {
      "cell_type": "code",
      "source": [
        "# 29.Write a code to combine two dictionaries into one and print the result.\n",
        "dict1 = {'a': 1, 'b': 2}\n",
        "dict2 = {'c': 3, 'd': 4}\n",
        "dict1.update(dict2)\n",
        "print(dict1)"
      ],
      "metadata": {
        "colab": {
          "base_uri": "https://localhost:8080/"
        },
        "id": "ou0b1AzIvVun",
        "outputId": "d3dde212-33e5-4df8-9076-d42abad5a56a"
      },
      "execution_count": 34,
      "outputs": [
        {
          "output_type": "stream",
          "name": "stdout",
          "text": [
            "{'a': 1, 'b': 2, 'c': 3, 'd': 4}\n"
          ]
        }
      ]
    },
    {
      "cell_type": "code",
      "source": [
        "# 30.Write a code to convert a list of strings into a set.\n",
        "list1 = [\"apple\", \"banana\", \"cherry\", \"date\", \"elderberry\"]\n",
        "set1 = set(list1)\n",
        "print(set1)"
      ],
      "metadata": {
        "colab": {
          "base_uri": "https://localhost:8080/"
        },
        "id": "tevT-6K9vgrG",
        "outputId": "79509b4a-2dd4-4633-ac71-73c43c676a5d"
      },
      "execution_count": 35,
      "outputs": [
        {
          "output_type": "stream",
          "name": "stdout",
          "text": [
            "{'elderberry', 'banana', 'apple', 'cherry', 'date'}\n"
          ]
        }
      ]
    }
  ]
}